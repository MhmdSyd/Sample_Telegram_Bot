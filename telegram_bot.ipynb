{
 "cells": [
  {
   "cell_type": "code",
   "execution_count": 1,
   "metadata": {},
   "outputs": [],
   "source": [
    "# pip install python-telegram-bot"
   ]
  },
  {
   "cell_type": "code",
   "execution_count": 2,
   "metadata": {},
   "outputs": [
    {
     "name": "stdout",
     "output_type": "stream",
     "text": [
      "Bot started....\n"
     ]
    }
   ],
   "source": [
    "import Constants as Keys\n",
    "from telegram.ext import *\n",
    "import Responses as R\n",
    "\n",
    "print('Bot started....')"
   ]
  },
  {
   "cell_type": "code",
   "execution_count": 3,
   "metadata": {},
   "outputs": [],
   "source": [
    "def start_command(update, context):\n",
    "    update.message.reply_text('Type something radom to get statred!')\n",
    "    \n",
    "\n",
    "def help_command(update, context):\n",
    "    update.message.reply_text(\"If you need help you should ask it for Google!\")"
   ]
  },
  {
   "cell_type": "code",
   "execution_count": 4,
   "metadata": {},
   "outputs": [],
   "source": [
    "def handle_message(update, context):\n",
    "    text = str(update.message.text).lower()\n",
    "    \n",
    "    response = R.sample_responses(text)\n",
    "    update.message.reply_text(response)"
   ]
  },
  {
   "cell_type": "code",
   "execution_count": 5,
   "metadata": {},
   "outputs": [],
   "source": [
    "def error(update, context):\n",
    "    print(f\"Update {update} caused error: {context.error}\")"
   ]
  },
  {
   "cell_type": "code",
   "execution_count": 6,
   "metadata": {},
   "outputs": [],
   "source": [
    "def main():\n",
    "    print('Bot started....')\n",
    "    updater = Updater(Keys.API_KEY, use_context=True)\n",
    "    dp = updater.dispatcher\n",
    "    \n",
    "    dp.add_handler(CommandHandler(\"start\", start_command))\n",
    "    dp.add_handler(CommandHandler(\"start\", help_command))\n",
    "    dp.add_handler(MessageHandler(Filters.text, handle_message))\n",
    "    dp.add_error_handler(error)\n",
    "    \n",
    "    updater.start_polling(5)\n",
    "    \n",
    "    updater.idle()"
   ]
  },
  {
   "cell_type": "code",
   "execution_count": 7,
   "metadata": {},
   "outputs": [
    {
     "name": "stdout",
     "output_type": "stream",
     "text": [
      "Bot started....\n"
     ]
    }
   ],
   "source": [
    "main()"
   ]
  },
  {
   "cell_type": "code",
   "execution_count": null,
   "metadata": {},
   "outputs": [],
   "source": []
  }
 ],
 "metadata": {
  "kernelspec": {
   "display_name": "Python 3",
   "language": "python",
   "name": "python3"
  },
  "language_info": {
   "codemirror_mode": {
    "name": "ipython",
    "version": 3
   },
   "file_extension": ".py",
   "mimetype": "text/x-python",
   "name": "python",
   "nbconvert_exporter": "python",
   "pygments_lexer": "ipython3",
   "version": "3.8.3"
  }
 },
 "nbformat": 4,
 "nbformat_minor": 4
}
